{
 "cells": [
  {
   "cell_type": "code",
   "execution_count": 2,
   "id": "956a598c-5970-4d05-8686-4338c0f3f224",
   "metadata": {},
   "outputs": [
    {
     "name": "stdout",
     "output_type": "stream",
     "text": [
      "Lookalike Recommendations: {'C0001': [('C0001', np.float64(1.0)), ('C0003', np.float64(1.0)), ('C0004', np.float64(0.0))], 'C0002': [('C0002', np.float64(1.0)), ('C0003', np.float64(1.0)), ('C0004', np.float64(0.0))], 'C0003': [('C0001', np.float64(1.0)), ('C0003', np.float64(1.0)), ('C0004', np.float64(0.0))], 'C0004': [('C0002', np.float64(0.0)), ('C0003', np.float64(0.0)), ('C0004', np.float64(0.0))]}\n"
     ]
    }
   ],
   "source": [
    "from sklearn.metrics.pairwise import cosine_similarity\n",
    "from sklearn.preprocessing import MinMaxScaler\n",
    "import pandas as pd\n",
    "\n",
    "# Example customer data (you need to use the actual customer_features from your analysis)\n",
    "customer_features = pd.DataFrame({\n",
    "    'CustomerID': ['C0001', 'C0002', 'C0003', 'C0004'],\n",
    "    'TotalSpent': [500, 300, 700, 200],\n",
    "    'TransactionCount': [5, 3, 7, 2]\n",
    "})\n",
    "\n",
    "# Normalize the features\n",
    "scaler = MinMaxScaler()\n",
    "scaled_features = scaler.fit_transform(customer_features[['TotalSpent', 'TransactionCount']])\n",
    "\n",
    "# Compute cosine similarity\n",
    "similarity_matrix = cosine_similarity(scaled_features)\n",
    "\n",
    "# Generate lookalikes for the first 20 customers (adjust if fewer customers exist)\n",
    "lookalikes = {}\n",
    "for idx, customer_id in enumerate(customer_features[\"CustomerID\"]):\n",
    "    sim_scores = list(enumerate(similarity_matrix[idx]))\n",
    "    sim_scores = sorted(sim_scores, key=lambda x: x[1], reverse=True)[1:4]  # Get top 3 similar customers\n",
    "    lookalikes[customer_id] = [(customer_features[\"CustomerID\"][i], round(score, 2)) for i, score in sim_scores]\n",
    "\n",
    "print(\"Lookalike Recommendations:\", lookalikes)\n"
   ]
  },
  {
   "cell_type": "code",
   "execution_count": 3,
   "id": "9383f605-307b-418a-af39-57f1c4550c23",
   "metadata": {},
   "outputs": [
    {
     "name": "stdout",
     "output_type": "stream",
     "text": [
      "Lookalike.csv has been created.\n"
     ]
    }
   ],
   "source": [
    "import csv\n",
    "\n",
    "# Save Lookalike results to a CSV file\n",
    "with open(\"Lookalike.csv\", \"w\", newline=\"\") as file:\n",
    "    writer = csv.writer(file)\n",
    "    writer.writerow([\"CustomerID\", \"SimilarCustomers\"])\n",
    "    for key, value in lookalikes.items():\n",
    "        writer.writerow([key, value])\n",
    "print(\"Lookalike.csv has been created.\")\n"
   ]
  },
  {
   "cell_type": "code",
   "execution_count": null,
   "id": "769fe987-6662-4502-854d-c12489ec8e54",
   "metadata": {},
   "outputs": [],
   "source": []
  }
 ],
 "metadata": {
  "kernelspec": {
   "display_name": "Python 3 (ipykernel)",
   "language": "python",
   "name": "python3"
  },
  "language_info": {
   "codemirror_mode": {
    "name": "ipython",
    "version": 3
   },
   "file_extension": ".py",
   "mimetype": "text/x-python",
   "name": "python",
   "nbconvert_exporter": "python",
   "pygments_lexer": "ipython3",
   "version": "3.13.1"
  }
 },
 "nbformat": 4,
 "nbformat_minor": 5
}
